def test_message(msg):
    msg = cv.transform([msg])
    prediction = classifier.predict(msg)
    if prediction:
        return "ham"
    else:
        return "spam"

# Test cases
test_cases = [
    "Hello, how are you?",
    "Congratulations! You've won a prize.",
    "URGENT: Your account has been compromised.",
    "Hey, let's meet for lunch tomorrow.",
    "Get rich quick! Guaranteed profits.",
]

for msg in test_cases:
    result = test_message(msg)
    print(f"Message: {msg} | Result: {result}")